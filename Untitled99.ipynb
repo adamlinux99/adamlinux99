{
  "nbformat": 4,
  "nbformat_minor": 0,
  "metadata": {
    "colab": {
      "provenance": [],
      "authorship_tag": "ABX9TyMCeig5doKSenzCMlvUIQVJ",
      "include_colab_link": true
    },
    "kernelspec": {
      "name": "python3",
      "display_name": "Python 3"
    },
    "language_info": {
      "name": "python"
    }
  },
  "cells": [
    {
      "cell_type": "markdown",
      "metadata": {
        "id": "view-in-github",
        "colab_type": "text"
      },
      "source": [
        "<a href=\"https://colab.research.google.com/github/adamlinux99/adamlinux99/blob/main/Untitled99.ipynb\" target=\"_parent\"><img src=\"https://colab.research.google.com/assets/colab-badge.svg\" alt=\"Open In Colab\"/></a>"
      ]
    },
    {
      "cell_type": "code",
      "execution_count": null,
      "metadata": {
        "id": "XIUhFhyfzh9U",
        "colab": {
          "base_uri": "https://localhost:8080/"
        },
        "outputId": "dfa86368-864e-4c1e-e6c9-fa2c2d62a1e8"
      },
      "outputs": [
        {
          "output_type": "stream",
          "name": "stdout",
          "text": [
            "m: 6.933497518664729\n",
            "r2: 6.933497518664729\n"
          ]
        }
      ],
      "source": [
        "# linear regression\n",
        "\n",
        "\n",
        "#ipmort pandas to read data\n",
        "import pandas as pd\n",
        "#import our model\n",
        "from sklearn.linear_model import LinearRegression\n",
        "#import funcction to split data into train and test data\n",
        "from sklearn.model_selection import train_test_split\n",
        "#import functions to evaluate training the model\n",
        "from sklearn.metrics import mean_squared_error,r2_score\n",
        "\n",
        "dataset=pd.read_csv(r\"/content/Ice Cream Sales - temperatures.csv\")\n",
        "\n",
        "#x presented input data,and we reshape the data to fit with the model\n",
        "x=dataset[\"Temperature\"].values.reshape(-1, 1)\n",
        "#y presented output data,and we reshape the data to fit with the model\n",
        "y=dataset[\"Ice Cream Profits\"].values.reshape(-1, 1)\n",
        "\n",
        "\n",
        "x_train,x_test,y_train,y_test=train_test_split(x,y,test_size=0.2,random_state=55)\n",
        "reg=LinearRegression()\n",
        "reg.fit(x_train,y_train)\n",
        "\n",
        "y_predict=reg.predict(x_test)\n",
        "\n",
        "m=mean_squared_error(y_test,y_predict)\n",
        "r2=r2_score(y_test,y_predict)\n",
        "\n",
        "print(\"m:\",m)\n",
        "print(\"r2:\",m)\n"
      ]
    },
    {
      "cell_type": "code",
      "source": [],
      "metadata": {
        "id": "X3UzHI_T0BuW"
      },
      "execution_count": null,
      "outputs": []
    },
    {
      "cell_type": "code",
      "source": [
        "from sklearn.linear_model import LinearRegression\n",
        "from sklearn.metrics import mean_squared_error,r2_score\n",
        "import pandas as pd\n",
        "\n",
        "data=pd.DataFrame({\"number of rooms\":[1,2,3,5,6,7,8],\n",
        "\"price\":[150,200,250,350,400,450,500]})\n",
        "\n",
        "input_data=data[\"number of rooms\"].values.reshape(-1, 1)\n",
        "output_data=data[\"price\"].values.reshape(-1, 1)\n",
        "\n",
        "reg_model=LinearRegression()\n",
        "reg_model.fit(input_data,output_data)\n",
        "\n",
        "import numpy as np\n",
        "test=np.array([4]).reshape(-1,1)\n",
        "\n",
        "reg_model.predict(test)"
      ],
      "metadata": {
        "colab": {
          "base_uri": "https://localhost:8080/"
        },
        "id": "CMOJ1sa40H6v",
        "outputId": "b8f7210d-c9cf-4eaf-e763-62736889f239"
      },
      "execution_count": null,
      "outputs": [
        {
          "output_type": "execute_result",
          "data": {
            "text/plain": [
              "array([[300.]])"
            ]
          },
          "metadata": {},
          "execution_count": 8
        }
      ]
    },
    {
      "cell_type": "code",
      "source": [
        "# polynomial regression\n",
        "\n",
        "import pandas as pd\n",
        "import matplotlib.pyplot as plt\n",
        "from sklearn.model_selection import train_test_split\n",
        "from sklearn.preprocessing import PolynomialFeatures\n",
        "from sklearn.linear_model import LinearRegression\n",
        "from sklearn.metrics import mean_squared_error,r2_score\n",
        "\n",
        "dataset=pd.read_csv(r\"Student_Marks.csv\")\n",
        "\n",
        "x=dataset[\"time_study\"].values.reshape(-1, 1)\n",
        "y=dataset[\"Marks\"].values.reshape(-1, 1)\n",
        "\n",
        "plt.scatter(x,y,color=\"red\")\n",
        "plt.title(\"data\")\n",
        "plt.xlabel(\"x\")\n",
        "plt.ylabel(\"y\")\n",
        "plt.show()\n",
        "\n",
        "x_train,x_test,y_train,y_test=train_test_split(x,y,test_size=0.2,random_state=55)\n",
        "\n",
        "poly=PolynomialFeatures(degree=2)\n",
        "\n",
        "xTrain_poly=poly.fit_transform(x_train)\n",
        "xTest_poly=poly.fit_transform(x_test)\n",
        "\n",
        "reg_model=LinearRegression()\n",
        "reg_model.fit(xTrain_poly,y_train)\n",
        "\n",
        "reg_model.predict(xTest_poly)"
      ],
      "metadata": {
        "id": "HitqIFN3NfP2"
      },
      "execution_count": null,
      "outputs": []
    },
    {
      "cell_type": "code",
      "source": [
        "# classiffication\n",
        "# logistic regression (with one_hot_encoding)  (0,1)\n",
        "\n",
        "import pandas as pd\n",
        "from sklearn.model_selection import train_test_split\n",
        "from sklearn.linear_model import LogisticRegression\n",
        "from sklearn.metrics import accuracy_score\n",
        "\n",
        "data = pd.read_excel(r\"C:\\Users\\Microsoft\\Desktop\\canncer.xlsx\")\n",
        "\n",
        "data[\"Diagnosis Result\"] = pd.get_dummies(data[\"Diagnosis Result\"], drop_first=True)\n",
        "\n",
        "x=data[[\"Age\", \"Tumor Size (cm)\"]]\n",
        "y=data[\"Diagnosis Result\"]\n",
        "\n",
        "X_train, X_test, y_train, y_test = train_test_split(x,y, test_size=0.2, random_state=42)\n",
        "\n",
        "model = LogisticRegression()\n",
        "model.fit(X_train, y_train)\n",
        "\n",
        "y_pred = model.predict(X_test)\n",
        "\n",
        "print(\"Accuracy:\", accuracy_score(y_test, y_pred))"
      ],
      "metadata": {
        "id": "X1cns6tCObsl"
      },
      "execution_count": null,
      "outputs": []
    },
    {
      "cell_type": "code",
      "source": [
        "# logistic regression (with label encoding) iloc\n",
        "\n",
        "import pandas as pd\n",
        "from sklearn.model_selection import train_test_split\n",
        "from sklearn.preprocessing import StandardScaler, LabelEncoder\n",
        "from sklearn.linear_model import LogisticRegression\n",
        "from sklearn.metrics import accuracy_score\n",
        "\n",
        "iris = pd.read_csv(r\"C:\\Users\\Microsoft\\Desktop\\Iris.csv\")\n",
        "\n",
        "LE = LabelEncoder()\n",
        "iris['Species'] = LE.fit_transform(iris['Species'])\n",
        "\n",
        "#all couloms and rows except the last coulom\n",
        "x = iris.iloc[:, :-1]\n",
        "#all rows of the last coulom\n",
        "y = iris.iloc[:, -1]\n",
        "\n",
        "X_train, X_test, y_train, y_test = train_test_split(x, y, test_size=0.2,random_state=42)\n",
        "\n",
        "scaler = StandardScaler()\n",
        "X_train = scaler.fit_transform(X_train)\n",
        "X_test = scaler.transform(X_test)\n",
        "\n",
        "LR= LogisticRegression()\n",
        "LR.fit(X_train, y_train)\n",
        "\n",
        "y_pred = LR.predict(X_test)\n",
        "\n",
        "acc=accuracy_score(y_test, y_pred)\n",
        "print(\"Accuracy:\",acc )"
      ],
      "metadata": {
        "id": "eoT9hi-wO4hh"
      },
      "execution_count": null,
      "outputs": []
    },
    {
      "cell_type": "code",
      "source": [
        "import pandas as pd\n",
        "from sklearn.model_selection import train_test_split\n",
        "from sklearn.preprocessing import StandardScaler, LabelEncoder\n",
        "from sklearn.linear_model import LogisticRegression\n",
        "from sklearn.metrics import accuracy_score\n",
        "\n",
        "data=pd.DataFrame({\"gender\":[\"female\", \"female\", \"male\", \"female\", \"male\", \"male\"],\n",
        "\"age\":[15, 25, 32, 35, 12, 14],\n",
        "\"app\":[\"snapchat\", \"sheln\", \"fantasy pl\", \"sheln\", \"snapchat\",\"snapchat\"]})\n",
        "\n",
        "data\n",
        "\n",
        "le=LabelEncoder()\n",
        "data[\"gender\"]=le.fit_transform(data[\"gender\"])\n",
        "data[\"app\"]=le.fit_transform(data[\"app\"])\n",
        "\n",
        "x=data[[\"gender\",\"age\"]]\n",
        "y=data[\"app\"]\n",
        "\n",
        "lr=LogisticRegression()\n",
        "lr.fit(x,y)\n",
        "\n",
        "test=pd.DataFrame({\"gender\":[\"female\", \"female\", \"male\"],\n",
        "\"age\":[13, 28, 34]})\n",
        "\n",
        "l=LabelEncoder()\n",
        "test[\"gender\"]=pd.get_dummies(test[\"gender\"],drop_first=int)\n",
        "\n",
        "score=lr.predict(test)\n",
        "\n",
        "score"
      ],
      "metadata": {
        "colab": {
          "base_uri": "https://localhost:8080/"
        },
        "id": "OXD1HVpSP2oW",
        "outputId": "b04ccba1-35cd-4817-c246-cd299db97ae8"
      },
      "execution_count": null,
      "outputs": [
        {
          "output_type": "execute_result",
          "data": {
            "text/plain": [
              "array([2, 1, 0])"
            ]
          },
          "metadata": {},
          "execution_count": 14
        }
      ]
    },
    {
      "cell_type": "code",
      "source": [
        "# Decision Tree\n",
        "\n",
        "import pandas as pd\n",
        "from sklearn.preprocessing import LabelEncoder\n",
        "from sklearn.model_selection import train_test_split\n",
        "from sklearn.tree import DecisionTreeClassifier\n",
        "from sklearn.metrics import accuracy_score\n",
        "\n",
        "iris=pd.read_csv(r\"Iris.csv\")\n",
        "\n",
        "LE = LabelEncoder()\n",
        "iris['Species'] = LE.fit_transform(iris['Species'])\n",
        "\n",
        "#all couloms and rows except the last coulom\n",
        "x = iris.iloc[:, :-1]\n",
        "#all rows of the last coulom\n",
        "y = iris.iloc[:, -1]\n",
        "\n",
        "x_train,x_test,y_train,y_test=train_test_split(x,y,test_size=0.2)\n",
        "\n",
        "tree=DecisionTreeClassifier()\n",
        "\n",
        "tree.fit(x_train,y_train)\n",
        "\n",
        "y_pred=tree.predict(x_test)\n",
        "\n",
        "accur=accuracy_score(y_test,y_pred)\n",
        "\n",
        "accur"
      ],
      "metadata": {
        "id": "i5X9t1HiQcko"
      },
      "execution_count": null,
      "outputs": []
    },
    {
      "cell_type": "code",
      "source": [],
      "metadata": {
        "id": "9ylrf3HQQjOg"
      },
      "execution_count": null,
      "outputs": []
    }
  ]
}